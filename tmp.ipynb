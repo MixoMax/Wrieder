{
 "cells": [
  {
   "cell_type": "code",
   "execution_count": 1,
   "metadata": {},
   "outputs": [],
   "source": [
    "import os"
   ]
  },
  {
   "cell_type": "code",
   "execution_count": 3,
   "metadata": {},
   "outputs": [
    {
     "name": "stdout",
     "output_type": "stream",
     "text": [
      "['Around-The-World-In-80-Days.txt', 'Moby-Dick.txt', 'The-Hobbit.txt', 'Twenty-Thousand-Leagues-Under-The-Sea.txt']\n",
      "['Around-The-World-In-80-Days', 'Moby-Dick', 'The-Hobbit', 'Twenty-Thousand-Leagues-Under-The-Sea']\n"
     ]
    }
   ],
   "source": [
    "files = os.listdir(\"./books\")\n",
    "print(files)\n",
    "data = [file.replace(\".txt\", \"\") for file in files if file.endswith(\".txt\")]\n",
    "print(data)"
   ]
  }
 ],
 "metadata": {
  "kernelspec": {
   "display_name": "base",
   "language": "python",
   "name": "python3"
  },
  "language_info": {
   "codemirror_mode": {
    "name": "ipython",
    "version": 3
   },
   "file_extension": ".py",
   "mimetype": "text/x-python",
   "name": "python",
   "nbconvert_exporter": "python",
   "pygments_lexer": "ipython3",
   "version": "3.12.3"
  }
 },
 "nbformat": 4,
 "nbformat_minor": 2
}
